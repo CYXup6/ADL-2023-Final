{
 "cells": [
  {
   "cell_type": "code",
   "execution_count": 49,
   "id": "9fee246f-2dca-4f45-89f7-7a161e36c3d1",
   "metadata": {},
   "outputs": [],
   "source": [
    "import json\n",
    "import re"
   ]
  },
  {
   "cell_type": "code",
   "execution_count": 50,
   "id": "f69b9960-bbef-49cb-8a2b-c77e8b8bfbbb",
   "metadata": {},
   "outputs": [],
   "source": [
    "ground_truth=\"\"\"CHATGPT\n",
    "TIE\n",
    "VICUNA13B\n",
    "VICUNA13B\n",
    "VICUNA13B\n",
    "CHATGPT\n",
    "CHATGPT\n",
    "VICUNA13B\n",
    "VICUNA13B\n",
    "VICUNA13B\n",
    "TIE\n",
    "VICUNA13B\n",
    "CHATGPT\n",
    "TIE\n",
    "CHATGPT\n",
    "TIE\n",
    "VICUNA13B\n",
    "VICUNA13B\n",
    "VICUNA13B\n",
    "VICUNA13B\n",
    "VICUNA13B\n",
    "VICUNA13B\n",
    "CHATGPT\n",
    "CHATGPT\n",
    "CHATGPT\n",
    "CHATGPT\n",
    "CHATGPT\n",
    "CHATGPT\n",
    "VICUNA13B\n",
    "VICUNA13B\n",
    "TIE\n",
    "CHATGPT\n",
    "VICUNA13B\n",
    "TIE\n",
    "VICUNA13B\n",
    "CHATGPT\n",
    "VICUNA13B\n",
    "CHATGPT\n",
    "VICUNA13B\n",
    "VICUNA13B\n",
    "CHATGPT\n",
    "CHATGPT\n",
    "CHATGPT\n",
    "TIE\n",
    "CHATGPT\n",
    "CHATGPT\n",
    "CHATGPT\n",
    "TIE\n",
    "CHATGPT\n",
    "CHATGPT\n",
    "CHATGPT\n",
    "VICUNA13B\n",
    "TIE\n",
    "TIE\n",
    "VICUNA13B\n",
    "TIE\n",
    "VICUNA13B\n",
    "TIE\n",
    "TIE\n",
    "CHATGPT\n",
    "CHATGPT\n",
    "CHATGPT\n",
    "VICUNA13B\n",
    "CHATGPT\n",
    "TIE\n",
    "CHATGPT\n",
    "CHATGPT\n",
    "CHATGPT\n",
    "CHATGPT\n",
    "CHATGPT\n",
    "VICUNA13B\n",
    "CHATGPT\n",
    "CHATGPT\n",
    "CHATGPT\n",
    "CHATGPT\n",
    "CHATGPT\n",
    "CHATGPT\n",
    "CHATGPT\n",
    "CHATGPT\n",
    "CHATGPT\"\"\".split(\"\\n\")"
   ]
  },
  {
   "cell_type": "code",
   "execution_count": 51,
   "id": "3c4ab33d-109c-4932-a158-dde959ba4b8e",
   "metadata": {},
   "outputs": [],
   "source": [
    "with open(\"pair_comparison_results.json\",\"r\") as fp:\n",
    "    data = json.load(fp)"
   ]
  },
  {
   "cell_type": "code",
   "execution_count": 52,
   "id": "16df47f9-e9cd-44eb-8dc7-28ee0be6559b",
   "metadata": {},
   "outputs": [
    {
     "name": "stdout",
     "output_type": "stream",
     "text": [
      "{'role': '', 'evaluation': '[Silence]'}\n",
      "{'role': '', 'evaluation': '[Silence]'}\n",
      "{'role': '', 'evaluation': '[Silence]'}\n",
      "{'role': '', 'evaluation': '[Silence]'}\n"
     ]
    }
   ],
   "source": [
    "results = [] \n",
    "for i in data:\n",
    "    asst1 = 0\n",
    "    asst2 = 0\n",
    "    for e in i[\"evaluation\"]:\n",
    "        # Input string\n",
    "        input_string = e[\"evaluation\"]\n",
    "\n",
    "        # Regular expression to extract the score number\n",
    "        pattern1 = r'The score of Assistant 1: ([\\d.]+)'\n",
    "        pattern2 = r'The score of Assistant 2: ([\\d.]+)'\n",
    "        # Use re.search to find the match\n",
    "        match1 = re.search(pattern1, input_string)\n",
    "        match2 = re.search(pattern2, input_string)\n",
    "        # Check if a match is found\n",
    "        if match1:\n",
    "            # Extract the score number from the matched group\n",
    "            score_number = match1.group(1)\n",
    "            # print(e[\"evaluation\"])\n",
    "            # print(\"Score Number:\", score_number)\n",
    "            asst1+=float(score_number)\n",
    "        else:\n",
    "            # pass\n",
    "            print(e)\n",
    "            # print(\"No match found.\")\n",
    "        # Check if a match is found\n",
    "        if match2:\n",
    "            # Extract the score number from the matched group\n",
    "            score_number = match2.group(1)\n",
    "            # print(e[\"evaluation\"])\n",
    "            # print(\"Score Number:\", score_number)\n",
    "            asst2+=float(score_number)\n",
    "        else:\n",
    "            # pass\n",
    "            print(e)\n",
    "            # print(\"No match found.\") # here\n",
    "    if asst1>asst2:\n",
    "        results.append(\"CHATGPT\")\n",
    "        # results.append(\"VICUNA13B\")\n",
    "    elif asst1==asst2:\n",
    "        results.append(\"TIE\")\n",
    "    else:\n",
    "        results.append(\"VICUNA13B\")\n",
    "        # results.append(\"CHATGPT\")"
   ]
  },
  {
   "cell_type": "code",
   "execution_count": 53,
   "id": "5c1a1578-6daa-4a44-addd-b12a37ed0a14",
   "metadata": {},
   "outputs": [
    {
     "data": {
      "text/plain": [
       "0.5125"
      ]
     },
     "execution_count": 53,
     "metadata": {},
     "output_type": "execute_result"
    }
   ],
   "source": [
    "from sklearn.metrics import accuracy_score\n",
    "accuracy_score(ground_truth, results)"
   ]
  },
  {
   "cell_type": "code",
   "execution_count": 54,
   "id": "a07a98fc-e43b-49bb-ade3-4e2573b43a14",
   "metadata": {},
   "outputs": [
    {
     "data": {
      "text/plain": [
       "0.14238592633314995"
      ]
     },
     "execution_count": 54,
     "metadata": {},
     "output_type": "execute_result"
    }
   ],
   "source": [
    "from sklearn.metrics import cohen_kappa_score\n",
    "cohen_kappa_score(ground_truth, results)"
   ]
  },
  {
   "cell_type": "code",
   "execution_count": null,
   "id": "cd18d7b9-6134-4f74-b325-ebace3cba070",
   "metadata": {},
   "outputs": [],
   "source": []
  }
 ],
 "metadata": {
  "kernelspec": {
   "display_name": "Python 3 (ipykernel)",
   "language": "python",
   "name": "python3"
  },
  "language_info": {
   "codemirror_mode": {
    "name": "ipython",
    "version": 3
   },
   "file_extension": ".py",
   "mimetype": "text/x-python",
   "name": "python",
   "nbconvert_exporter": "python",
   "pygments_lexer": "ipython3",
   "version": "3.8.13"
  }
 },
 "nbformat": 4,
 "nbformat_minor": 5
}
